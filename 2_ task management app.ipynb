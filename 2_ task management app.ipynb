{
 "cells": [
  {
   "cell_type": "markdown",
   "id": "bbb3e75b-bda1-4583-b8b0-230e3a9316af",
   "metadata": {},
   "source": [
    "#  Task 1: Task management app"
   ]
  },
  {
   "cell_type": "code",
   "execution_count": 22,
   "id": "8c735b34-3304-4ac6-afc3-13ba7c3b1266",
   "metadata": {
    "tags": []
   },
   "outputs": [],
   "source": [
    "tasks = []\n",
    "\n",
    "def task_management_app():\n",
    "    \n",
    "    while True:\n",
    "        print(\"\\nTask Management Menu:\")\n",
    "        print(\"1. Add Task\")\n",
    "        print(\"2. Remove Task\")\n",
    "        print(\"3. List Tasks\")\n",
    "        print(\"4. Prioritize Tasks\")\n",
    "        print(\"5. Exit\")\n",
    "        \n",
    "        choice = input(\"enter your choice:\")\n",
    "        \n",
    "        #ADD\n",
    "        \n",
    "        if choice == \"1\": \n",
    "            \n",
    "            description = input(\"enter your description:\")\n",
    "            priority = input(\"enter your priority:\")\n",
    "            \n",
    "            # calling add_task function\n",
    "            tasks.append({\"description\": description, \"priority\": priority})\n",
    "            print(\"+\"*50)\n",
    "            print(f\"description:'{description}' and priority:'{priority}' add to the task\")\n",
    "            print(\"+\"*50)\n",
    "\n",
    "        # REMOVE      \n",
    "        elif choice == \"2\": \n",
    "            description = input(\"enter your description:\")\n",
    "            for task in tasks:\n",
    "                if task[\"description\"] == description:\n",
    "                    tasks.remove(task)\n",
    "                    print(\"+\"*50)\n",
    "                    print(f\"This description:'{description}' succesfully removed form the task list\")\n",
    "                    print(\"+\"*50)\n",
    "                   \n",
    "                else:\n",
    "                    print(\"+\"*50)\n",
    "                    print(f\"{description} is not found\")\n",
    "                    print(\"+\"*50)\n",
    "                    \n",
    "                    \n",
    "        # List                            \n",
    "        elif choice == \"3\": \n",
    "                if not tasks:\n",
    "                    print(\"+\"*50)\n",
    "                    print(\"No tasks available.\")\n",
    "                    print(\"+\"*50) \n",
    "                else:\n",
    "                    print(\"+\"*50)\n",
    "                    print(\"Tasks:\")\n",
    "                    print(\"+\"*50) \n",
    "                    for idx,task in enumerate(tasks, start=1):\n",
    "                        print(\"+\"*50)\n",
    "                        print(f\"{idx}.{task['description']} - Priority: {task['priority']}\")\n",
    "                        print(\"+\"*50)\n",
    "                        \n",
    "        # prioritize \n",
    "        elif choice == \"4\": \n",
    "                if not tasks:\n",
    "                    print(\"+\"*50)\n",
    "                    print(\"No tasks available\")\n",
    "                    print(\"+\"*50)\n",
    "                else:\n",
    "                    sorted_tasks = sorted(tasks, key=lambda x: x[\"priority\"], reverse=True)\n",
    "                    print(\"+\"*50) \n",
    "                    print(\"Prioritized Tasks:\")\n",
    "                    print(\"+\"*50) \n",
    "                    for idx, task in enumerate(sorted_tasks, start=1):\n",
    "                        print(\"+\"*50)  \n",
    "                        print(f\"{idx}.{task['description']} - Priority: {task['priority']}\")\n",
    "                        print(\"+\"*50) \n",
    "                        \n",
    "         # Exiting               \n",
    "        elif choice == \"5\":\n",
    "                print(\"+\"*50)\n",
    "                print(\"Exiting Task Management App. Goodbye!\")\n",
    "                print(\"+\"*50)\n",
    "                break  \n",
    "                \n",
    "        else:\n",
    "                print(\"+\"*50)\n",
    "                print(\"Invalid choice. Please enter a number between 1 and 5.\")"
   ]
  },
  {
   "cell_type": "code",
   "execution_count": 23,
   "id": "d7a7f1b6-abd7-4c84-8540-2b755aa284b0",
   "metadata": {
    "tags": []
   },
   "outputs": [
    {
     "name": "stdout",
     "output_type": "stream",
     "text": [
      "\n",
      "Task Management Menu:\n",
      "1. Add Task\n",
      "2. Remove Task\n",
      "3. List Tasks\n",
      "4. Prioritize Tasks\n",
      "5. Exit\n"
     ]
    },
    {
     "name": "stdin",
     "output_type": "stream",
     "text": [
      "enter your choice: 1\n",
      "enter your description: Buy groceries\n",
      "enter your priority: High\n"
     ]
    },
    {
     "name": "stdout",
     "output_type": "stream",
     "text": [
      "++++++++++++++++++++++++++++++++++++++++++++++++++\n",
      "description:'Buy groceries' and priority:'High' add to the task\n",
      "++++++++++++++++++++++++++++++++++++++++++++++++++\n",
      "\n",
      "Task Management Menu:\n",
      "1. Add Task\n",
      "2. Remove Task\n",
      "3. List Tasks\n",
      "4. Prioritize Tasks\n",
      "5. Exit\n"
     ]
    },
    {
     "name": "stdin",
     "output_type": "stream",
     "text": [
      "enter your choice: 1\n",
      "enter your description: Complete project report\n",
      "enter your priority: Medium\n"
     ]
    },
    {
     "name": "stdout",
     "output_type": "stream",
     "text": [
      "++++++++++++++++++++++++++++++++++++++++++++++++++\n",
      "description:'Complete project report' and priority:'Medium' add to the task\n",
      "++++++++++++++++++++++++++++++++++++++++++++++++++\n",
      "\n",
      "Task Management Menu:\n",
      "1. Add Task\n",
      "2. Remove Task\n",
      "3. List Tasks\n",
      "4. Prioritize Tasks\n",
      "5. Exit\n"
     ]
    },
    {
     "name": "stdin",
     "output_type": "stream",
     "text": [
      "enter your choice: 1\n",
      "enter your description: Schedule a meeting with the team\n",
      "enter your priority: Low\n"
     ]
    },
    {
     "name": "stdout",
     "output_type": "stream",
     "text": [
      "++++++++++++++++++++++++++++++++++++++++++++++++++\n",
      "description:'Schedule a meeting with the team' and priority:'Low' add to the task\n",
      "++++++++++++++++++++++++++++++++++++++++++++++++++\n",
      "\n",
      "Task Management Menu:\n",
      "1. Add Task\n",
      "2. Remove Task\n",
      "3. List Tasks\n",
      "4. Prioritize Tasks\n",
      "5. Exit\n"
     ]
    },
    {
     "name": "stdin",
     "output_type": "stream",
     "text": [
      "enter your choice: 1\n",
      "enter your description: Prepare presentation for the meeting\n",
      "enter your priority: Medium\n"
     ]
    },
    {
     "name": "stdout",
     "output_type": "stream",
     "text": [
      "++++++++++++++++++++++++++++++++++++++++++++++++++\n",
      "description:'Prepare presentation for the meeting' and priority:'Medium' add to the task\n",
      "++++++++++++++++++++++++++++++++++++++++++++++++++\n",
      "\n",
      "Task Management Menu:\n",
      "1. Add Task\n",
      "2. Remove Task\n",
      "3. List Tasks\n",
      "4. Prioritize Tasks\n",
      "5. Exit\n"
     ]
    },
    {
     "name": "stdin",
     "output_type": "stream",
     "text": [
      "enter your choice: 1\n",
      "enter your description: Pay the bills\n",
      "enter your priority: High\n"
     ]
    },
    {
     "name": "stdout",
     "output_type": "stream",
     "text": [
      "++++++++++++++++++++++++++++++++++++++++++++++++++\n",
      "description:'Pay the bills' and priority:'High' add to the task\n",
      "++++++++++++++++++++++++++++++++++++++++++++++++++\n",
      "\n",
      "Task Management Menu:\n",
      "1. Add Task\n",
      "2. Remove Task\n",
      "3. List Tasks\n",
      "4. Prioritize Tasks\n",
      "5. Exit\n"
     ]
    },
    {
     "name": "stdin",
     "output_type": "stream",
     "text": [
      "enter your choice: 1\n",
      "enter your description: Exercise\n",
      "enter your priority: Low\n"
     ]
    },
    {
     "name": "stdout",
     "output_type": "stream",
     "text": [
      "++++++++++++++++++++++++++++++++++++++++++++++++++\n",
      "description:'Exercise' and priority:'Low' add to the task\n",
      "++++++++++++++++++++++++++++++++++++++++++++++++++\n",
      "\n",
      "Task Management Menu:\n",
      "1. Add Task\n",
      "2. Remove Task\n",
      "3. List Tasks\n",
      "4. Prioritize Tasks\n",
      "5. Exit\n"
     ]
    },
    {
     "name": "stdin",
     "output_type": "stream",
     "text": [
      "enter your choice: 3\n"
     ]
    },
    {
     "name": "stdout",
     "output_type": "stream",
     "text": [
      "++++++++++++++++++++++++++++++++++++++++++++++++++\n",
      "Tasks:\n",
      "++++++++++++++++++++++++++++++++++++++++++++++++++\n",
      "++++++++++++++++++++++++++++++++++++++++++++++++++\n",
      "1.Buy groceries - Priority: High\n",
      "++++++++++++++++++++++++++++++++++++++++++++++++++\n",
      "++++++++++++++++++++++++++++++++++++++++++++++++++\n",
      "2.Complete project report - Priority: Medium\n",
      "++++++++++++++++++++++++++++++++++++++++++++++++++\n",
      "++++++++++++++++++++++++++++++++++++++++++++++++++\n",
      "3.Schedule a meeting with the team - Priority: Low\n",
      "++++++++++++++++++++++++++++++++++++++++++++++++++\n",
      "++++++++++++++++++++++++++++++++++++++++++++++++++\n",
      "4.Prepare presentation for the meeting - Priority: Medium\n",
      "++++++++++++++++++++++++++++++++++++++++++++++++++\n",
      "++++++++++++++++++++++++++++++++++++++++++++++++++\n",
      "5.Pay the bills - Priority: High\n",
      "++++++++++++++++++++++++++++++++++++++++++++++++++\n",
      "++++++++++++++++++++++++++++++++++++++++++++++++++\n",
      "6.Exercise - Priority: Low\n",
      "++++++++++++++++++++++++++++++++++++++++++++++++++\n",
      "\n",
      "Task Management Menu:\n",
      "1. Add Task\n",
      "2. Remove Task\n",
      "3. List Tasks\n",
      "4. Prioritize Tasks\n",
      "5. Exit\n"
     ]
    },
    {
     "name": "stdin",
     "output_type": "stream",
     "text": [
      "enter your choice: 4\n"
     ]
    },
    {
     "name": "stdout",
     "output_type": "stream",
     "text": [
      "++++++++++++++++++++++++++++++++++++++++++++++++++\n",
      "Prioritized Tasks:\n",
      "++++++++++++++++++++++++++++++++++++++++++++++++++\n",
      "++++++++++++++++++++++++++++++++++++++++++++++++++\n",
      "1.Complete project report - Priority: Medium\n",
      "++++++++++++++++++++++++++++++++++++++++++++++++++\n",
      "++++++++++++++++++++++++++++++++++++++++++++++++++\n",
      "2.Prepare presentation for the meeting - Priority: Medium\n",
      "++++++++++++++++++++++++++++++++++++++++++++++++++\n",
      "++++++++++++++++++++++++++++++++++++++++++++++++++\n",
      "3.Schedule a meeting with the team - Priority: Low\n",
      "++++++++++++++++++++++++++++++++++++++++++++++++++\n",
      "++++++++++++++++++++++++++++++++++++++++++++++++++\n",
      "4.Exercise - Priority: Low\n",
      "++++++++++++++++++++++++++++++++++++++++++++++++++\n",
      "++++++++++++++++++++++++++++++++++++++++++++++++++\n",
      "5.Buy groceries - Priority: High\n",
      "++++++++++++++++++++++++++++++++++++++++++++++++++\n",
      "++++++++++++++++++++++++++++++++++++++++++++++++++\n",
      "6.Pay the bills - Priority: High\n",
      "++++++++++++++++++++++++++++++++++++++++++++++++++\n",
      "\n",
      "Task Management Menu:\n",
      "1. Add Task\n",
      "2. Remove Task\n",
      "3. List Tasks\n",
      "4. Prioritize Tasks\n",
      "5. Exit\n"
     ]
    },
    {
     "name": "stdin",
     "output_type": "stream",
     "text": [
      "enter your choice: 2\n",
      "enter your description: Exercise\n"
     ]
    },
    {
     "name": "stdout",
     "output_type": "stream",
     "text": [
      "++++++++++++++++++++++++++++++++++++++++++++++++++\n",
      "Exercise is not found\n",
      "++++++++++++++++++++++++++++++++++++++++++++++++++\n",
      "++++++++++++++++++++++++++++++++++++++++++++++++++\n",
      "Exercise is not found\n",
      "++++++++++++++++++++++++++++++++++++++++++++++++++\n",
      "++++++++++++++++++++++++++++++++++++++++++++++++++\n",
      "Exercise is not found\n",
      "++++++++++++++++++++++++++++++++++++++++++++++++++\n",
      "++++++++++++++++++++++++++++++++++++++++++++++++++\n",
      "Exercise is not found\n",
      "++++++++++++++++++++++++++++++++++++++++++++++++++\n",
      "++++++++++++++++++++++++++++++++++++++++++++++++++\n",
      "Exercise is not found\n",
      "++++++++++++++++++++++++++++++++++++++++++++++++++\n",
      "++++++++++++++++++++++++++++++++++++++++++++++++++\n",
      "This description:'Exercise' succesfully removed form the task list\n",
      "++++++++++++++++++++++++++++++++++++++++++++++++++\n",
      "\n",
      "Task Management Menu:\n",
      "1. Add Task\n",
      "2. Remove Task\n",
      "3. List Tasks\n",
      "4. Prioritize Tasks\n",
      "5. Exit\n"
     ]
    },
    {
     "name": "stdin",
     "output_type": "stream",
     "text": [
      "enter your choice: 5\n"
     ]
    },
    {
     "name": "stdout",
     "output_type": "stream",
     "text": [
      "++++++++++++++++++++++++++++++++++++++++++++++++++\n",
      "Exiting Task Management App. Goodbye!\n",
      "++++++++++++++++++++++++++++++++++++++++++++++++++\n"
     ]
    }
   ],
   "source": [
    "task_management_app()"
   ]
  },
  {
   "cell_type": "code",
   "execution_count": null,
   "id": "c88401bb-0230-4906-811d-9e1af66f84e8",
   "metadata": {},
   "outputs": [],
   "source": []
  },
  {
   "cell_type": "code",
   "execution_count": null,
   "id": "dc787188-72ed-4ff1-b09e-5afdb7027465",
   "metadata": {},
   "outputs": [],
   "source": [
    "description\tpriority\n",
    "Buy groceries\tHigh\n",
    "Complete project report\tMedium\n",
    "Schedule a meeting with the team\tLow\n",
    "Prepare presentation for the meeting\tMedium\n",
    "Pay the bills\tHigh\n",
    "Exercise\tLow\n"
   ]
  }
 ],
 "metadata": {
  "kernelspec": {
   "display_name": "Python 3 (ipykernel)",
   "language": "python",
   "name": "python3"
  },
  "language_info": {
   "codemirror_mode": {
    "name": "ipython",
    "version": 3
   },
   "file_extension": ".py",
   "mimetype": "text/x-python",
   "name": "python",
   "nbconvert_exporter": "python",
   "pygments_lexer": "ipython3",
   "version": "3.11.5"
  }
 },
 "nbformat": 4,
 "nbformat_minor": 5
}
